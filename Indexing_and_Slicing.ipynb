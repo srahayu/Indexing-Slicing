{
  "nbformat": 4,
  "nbformat_minor": 0,
  "metadata": {
    "colab": {
      "provenance": []
    },
    "kernelspec": {
      "name": "python3",
      "display_name": "Python 3"
    },
    "language_info": {
      "name": "python"
    }
  },
  "cells": [
    {
      "cell_type": "markdown",
      "source": [
        "# **INDEXING AND SLICING**"
      ],
      "metadata": {
        "id": "JZmkaSTHDil2"
      }
    },
    {
      "cell_type": "markdown",
      "source": [
        "## **INDEXING**\n",
        "\n",
        "Indexing digunakan untuk mengakses elemen tunggal dari sebuah data berdasarkan posisi tertentu.\n",
        "misal :\n",
        "1. ingin mengetahui harga saham di hari pertama dan hari terakhir transaksi\n",
        "2. mengetahui catatan medis pasien pada hari tertentu (misal hari rabu)\n",
        "3. melihat produk katalog yang berada di posisi pertama."
      ],
      "metadata": {
        "id": "FxedZlTUDBvr"
      }
    },
    {
      "cell_type": "code",
      "source": [
        "#example\n",
        "nilai_mahasiswa = [85,70,90,78,88,77]\n",
        "nilai_pertama = nilai_mahasiswa[0] #melihat nilai mahasiswa yang pertama\n",
        "#ingat indexing pada python itu dimulai dengan angka 0, atau urutan pertama itu dilambangkan dengan angka 0"
      ],
      "metadata": {
        "id": "g_ath-S4DJgV"
      },
      "execution_count": 1,
      "outputs": []
    },
    {
      "cell_type": "code",
      "source": [
        "print(nilai_pertama)"
      ],
      "metadata": {
        "colab": {
          "base_uri": "https://localhost:8080/"
        },
        "id": "ZD2YPeaBDPUM",
        "outputId": "9d33bc7a-68fd-4ffa-dd88-dc9e8d5fa5a9"
      },
      "execution_count": 2,
      "outputs": [
        {
          "output_type": "stream",
          "name": "stdout",
          "text": [
            "85\n"
          ]
        }
      ]
    },
    {
      "cell_type": "markdown",
      "source": [
        "#### Memeriksa atau memvalidasi data dengan indexing"
      ],
      "metadata": {
        "id": "bvyw5gRgDXdy"
      }
    },
    {
      "cell_type": "code",
      "source": [
        "#case 1 : diperlukan pemeriksaan pada karakter pertama dari string untuk menentukan apakah itu huruf vokal atau bukan\n",
        "nama = ['a','y','u']\n",
        "if nama[0].lower() in 'aiueo' :\n",
        "  print(\"Huruf Vokal\")"
      ],
      "metadata": {
        "colab": {
          "base_uri": "https://localhost:8080/"
        },
        "id": "tJ_Q7fW3Deqc",
        "outputId": "8f9197df-fc46-46e3-d011-df2a9772c4e7"
      },
      "execution_count": 3,
      "outputs": [
        {
          "output_type": "stream",
          "name": "stdout",
          "text": [
            "Huruf Vokal\n"
          ]
        }
      ]
    },
    {
      "cell_type": "markdown",
      "source": [
        "#### Mengubah atau mengupdate nilai elemen\n",
        "perlu di ingat bahwa data structure yang dapat diubah hanya data yang berbentuk list karena **tuple dan string** bersifat immutable"
      ],
      "metadata": {
        "id": "vMosKdl0DmuA"
      }
    },
    {
      "cell_type": "code",
      "source": [
        "#Case 1 : mengupdate nilai dalam daftar\n",
        "nilai_mahasiswa[2]=85 #mengubah nilai ketiga"
      ],
      "metadata": {
        "id": "nbWl6LwcDpMM"
      },
      "execution_count": 4,
      "outputs": []
    },
    {
      "cell_type": "code",
      "source": [
        "print(nilai_mahasiswa) #terlihat bahwa nilai ketiga yang awalnya 90 berubah menjadi 85."
      ],
      "metadata": {
        "colab": {
          "base_uri": "https://localhost:8080/"
        },
        "id": "32jgVytGDsgL",
        "outputId": "dc30190d-b8e5-4aac-fd94-57285412cf7e"
      },
      "execution_count": 5,
      "outputs": [
        {
          "output_type": "stream",
          "name": "stdout",
          "text": [
            "[85, 70, 85, 78, 88, 77]\n"
          ]
        }
      ]
    },
    {
      "cell_type": "markdown",
      "source": [
        "## **SLICING**\n",
        "Slicing digunakan untuk mengakses subset dari elemen-elemen dari suatu struktur data berdasarkan rentang indeks.\n",
        "1. Mengambil subset data -> ketika diperlukan untuk mengambil sebagian elemen dari list, tuple, atau string.\n",
        "\n",
        "  case 1 : mengambil tiga elemen pertama dari daftar\n",
        "2. Menduplikasi struktur data ->digunakan untuk membuat salinan dari list, tuple atau string.\n",
        "   \n",
        "   case 2 : membuat salinan dari list untuk diubah tanpa mempengaruhi list asli.\n",
        "\n",
        "3. Memanipulasi data -> memanipulasi atau mengubah subset dari elemen-elemen\n",
        "\n",
        "   case 3 : mengganti subset dari elemen dalam list.\n",
        "\n",
        "4. Membalikan urutan -> digunakan untuk membalikkan urutan elemen dalam list, tuple atau string\n",
        "\n",
        "   case 4 : membalikkan urutan string\n",
        "\n",
        "5. Mengambil elemen dengan interval tertentu\n",
        "   \n",
        "   case 5 : mengambil setiap elemen kedua dari list\n",
        "\n",
        "\n",
        "slicing pada kehidupan sehari-hari biasa digunakan untuk =\n",
        "\n",
        " - mengambil subset produk untuk menampilkan halaman tertentu dalam hasil pencarian\n",
        " - mengambil data harga saham untuk periode tertentu (misal seminggu terakhir)\n",
        " - mengambil subset catatan medis untuk analisis trend kesehatan selama periode tertenu.\n"
      ],
      "metadata": {
        "id": "xCof6StQEKWp"
      }
    },
    {
      "cell_type": "code",
      "source": [],
      "metadata": {
        "id": "TKsMUCHQJHjS"
      },
      "execution_count": null,
      "outputs": []
    },
    {
      "cell_type": "code",
      "source": [
        "#case 1 : mengambil tiga elemen pertama dari daftar\n",
        "sublist = nilai_mahasiswa[:3]\n",
        "print(sublist)"
      ],
      "metadata": {
        "colab": {
          "base_uri": "https://localhost:8080/"
        },
        "id": "8lcs5unjEMFU",
        "outputId": "9577a147-e3a1-40d8-bac9-f2310176c71b"
      },
      "execution_count": 6,
      "outputs": [
        {
          "output_type": "stream",
          "name": "stdout",
          "text": [
            "[85, 70, 85]\n"
          ]
        }
      ]
    },
    {
      "cell_type": "code",
      "source": [
        "#case 2 : membuat salinan dari list untuk diubah tanpa mempengaruhi list asli.\n",
        "salinan_list = nilai_mahasiswa[:]\n",
        "print(salinan_list)"
      ],
      "metadata": {
        "colab": {
          "base_uri": "https://localhost:8080/"
        },
        "id": "Jr8rDhgPETHR",
        "outputId": "26263cc7-3b09-47eb-a069-7565836a3af4"
      },
      "execution_count": 7,
      "outputs": [
        {
          "output_type": "stream",
          "name": "stdout",
          "text": [
            "[85, 70, 85, 78, 88, 77]\n"
          ]
        }
      ]
    },
    {
      "cell_type": "code",
      "source": [
        "#case 3 : mengganti subset dari elemen dalam list\n",
        "nilai_mahasiswa [1:3]=[91,74]\n",
        "print(nilai_mahasiswa)"
      ],
      "metadata": {
        "colab": {
          "base_uri": "https://localhost:8080/"
        },
        "id": "BW41O0YCEVBY",
        "outputId": "c0c4f409-2b4f-4781-d238-ae1ea26b0bb1"
      },
      "execution_count": 8,
      "outputs": [
        {
          "output_type": "stream",
          "name": "stdout",
          "text": [
            "[85, 91, 74, 78, 88, 77]\n"
          ]
        }
      ]
    },
    {
      "cell_type": "code",
      "source": [
        "#case 4 : membalikkan urutan string\n",
        "sapaan = \"Hallo\"\n",
        "sapaan_balik = sapaan[::-1]\n",
        "print(sapaan_balik)"
      ],
      "metadata": {
        "colab": {
          "base_uri": "https://localhost:8080/"
        },
        "id": "7TJjpPloEW3f",
        "outputId": "2972fb1c-ab7d-49eb-c5c0-bde14b7477ce"
      },
      "execution_count": 9,
      "outputs": [
        {
          "output_type": "stream",
          "name": "stdout",
          "text": [
            "ollaH\n"
          ]
        }
      ]
    },
    {
      "cell_type": "code",
      "source": [
        "#case 5 : mengambil setiap elemen kedua dari list\n",
        "elemen_ganjil = nilai_mahasiswa[::2]\n",
        "print(elemen_ganjil)"
      ],
      "metadata": {
        "colab": {
          "base_uri": "https://localhost:8080/"
        },
        "id": "B4-HTXZmEZBo",
        "outputId": "94aa855a-a21d-4487-cc6f-eedda510d46d"
      },
      "execution_count": 10,
      "outputs": [
        {
          "output_type": "stream",
          "name": "stdout",
          "text": [
            "[85, 74, 88]\n"
          ]
        }
      ]
    },
    {
      "cell_type": "code",
      "source": [
        "# Daftar produk di katalog\n",
        "produk_katalog = [\n",
        "    {\"id\": 101, \"nama\": \"Laptop\", \"harga\": 15000000},\n",
        "    {\"id\": 102, \"nama\": \"Smartphone\", \"harga\": 5000000},\n",
        "    {\"id\": 103, \"nama\": \"Tablet\", \"harga\": 3000000},\n",
        "    {\"id\": 104, \"nama\": \"Smartwatch\", \"harga\": 2000000},\n",
        "    {\"id\": 105, \"nama\": \"Kamera\", \"harga\": 7000000}\n",
        "]\n",
        "\n",
        "#mengambil subset produk untuk halaman pertama (2 produk per bulan)\n",
        "produk_halaman_pertama = produk_katalog[:2]\n",
        "print(\"Produk di halaman pertama\",produk_halaman_pertama)"
      ],
      "metadata": {
        "colab": {
          "base_uri": "https://localhost:8080/"
        },
        "id": "vxZNPiYrEcZ0",
        "outputId": "eaa176c6-92ec-400d-e2e7-41e5a64f3f36"
      },
      "execution_count": 11,
      "outputs": [
        {
          "output_type": "stream",
          "name": "stdout",
          "text": [
            "Produk di halaman pertama [{'id': 101, 'nama': 'Laptop', 'harga': 15000000}, {'id': 102, 'nama': 'Smartphone', 'harga': 5000000}]\n"
          ]
        }
      ]
    },
    {
      "cell_type": "code",
      "source": [
        "# Harga saham dalam seminggu terakhir\n",
        "harga_saham = [150, 152, 149, 153, 155, 157, 160]\n",
        "\n",
        "#mengambil harga saham dari 3 hari terakhir\n",
        "harga_tiga_hari_terakhir=harga_saham[-3:]\n",
        "print(\"Harga saham 3 hari terakhir\",harga_tiga_hari_terakhir)"
      ],
      "metadata": {
        "colab": {
          "base_uri": "https://localhost:8080/"
        },
        "id": "TVo-XvMcEenl",
        "outputId": "f06a0a62-a1b7-44f2-e8af-7ea56469cdc9"
      },
      "execution_count": 12,
      "outputs": [
        {
          "output_type": "stream",
          "name": "stdout",
          "text": [
            "Harga saham 3 hari terakhir [155, 157, 160]\n"
          ]
        }
      ]
    },
    {
      "cell_type": "code",
      "source": [
        "# Catatan medis pasien dalam 1 minggu\n",
        "catatan_medis = [\n",
        "    {\"hari\": \"Senin\", \"tekanan_darah\": 120, \"denyut_nadi\": 80},\n",
        "    {\"hari\": \"Selasa\", \"tekanan_darah\": 125, \"denyut_nadi\": 82},\n",
        "    {\"hari\": \"Rabu\", \"tekanan_darah\": 118, \"denyut_nadi\": 78},\n",
        "    {\"hari\": \"Kamis\", \"tekanan_darah\": 122, \"denyut_nadi\": 81},\n",
        "    {\"hari\": \"Jumat\", \"tekanan_darah\": 121, \"denyut_nadi\": 80},\n",
        "    {\"hari\": \"Sabtu\", \"tekanan_darah\": 119, \"denyut_nadi\": 79},\n",
        "    {\"hari\": \"Minggu\", \"tekanan_darah\": 123, \"denyut_nadi\": 83}\n",
        "]\n",
        "#mengambil catatan medis untuk 3 hari terakhir\n",
        "catatan_tiga_hari_terakhir = catatan_medis [-3:]\n",
        "print(\"Catatan medis 3 hari terakhir\", catatan_tiga_hari_terakhir)"
      ],
      "metadata": {
        "colab": {
          "base_uri": "https://localhost:8080/"
        },
        "id": "Kz_nkOhPEg4d",
        "outputId": "947e1c9a-ca28-4ffc-88ad-0c68981af7a2"
      },
      "execution_count": 13,
      "outputs": [
        {
          "output_type": "stream",
          "name": "stdout",
          "text": [
            "Catatan medis 3 hari terakhir [{'hari': 'Jumat', 'tekanan_darah': 121, 'denyut_nadi': 80}, {'hari': 'Sabtu', 'tekanan_darah': 119, 'denyut_nadi': 79}, {'hari': 'Minggu', 'tekanan_darah': 123, 'denyut_nadi': 83}]\n"
          ]
        }
      ]
    },
    {
      "cell_type": "code",
      "source": [],
      "metadata": {
        "id": "gQj09qcp9Tth"
      },
      "execution_count": null,
      "outputs": []
    },
    {
      "cell_type": "markdown",
      "source": [
        "## **PENERAPAN INDEXING DAN SLICING**"
      ],
      "metadata": {
        "id": "MJoaKKujJAbH"
      }
    },
    {
      "cell_type": "markdown",
      "source": [
        "### **Soal 1**\n",
        "\n",
        "Data analyst dalam sebuah perusahaan e-commerce mendapatkan data penjualan produk dalam satu bulan terakhir dalam bentuk list.\n",
        "\n",
        "Data analyst diberikan tugas untuk melakukan memecahkan beberapa masalah berikut :\n",
        "\n",
        "1. produk apa yang terjual kedua?\n",
        "2. produk apa yang terjual di urutan ketiga hingga kelima?\n",
        "3. produk apa yang penjualan nya terbanyak?\n",
        "4. ambil data produk dengan penjualan terbanyak kedua sampai keempat dan urutkan berdasarkan jumlah yang terjual.  "
      ],
      "metadata": {
        "id": "uOZJx4eDJa8T"
      }
    },
    {
      "cell_type": "code",
      "source": [
        "produk_jan = [\n",
        "    {\"nama\":\"Laptop\",\"jumlah_terjual\":150},\n",
        "    {\"nama\":\"Smartphone\",\"jumlah_terjual\":200},\n",
        "    {\"nama\":\"Tablet\",\"jumlah_terjual\":120},\n",
        "    {\"nama\":\"Smartwatch\",\"jumlah_terjual\":180},\n",
        "    {\"nama\":\"Kamera\",\"jumlah_terjual\":90},\n",
        "    {\"nama\":\"Headphone\",\"jumlah_terjual\":220},\n",
        "    {\"nama\":\"Speaker\",\"jumlah_terjual\":140},\n",
        "    {\"nama\":\"Printer\",\"jumlah_terjual\":60}\n",
        "]"
      ],
      "metadata": {
        "id": "KblbsjYBKHAi"
      },
      "execution_count": 14,
      "outputs": []
    },
    {
      "cell_type": "code",
      "source": [
        "#1. produk kedua terjual ?\n",
        "produk_kedua=produk_jan[1]"
      ],
      "metadata": {
        "id": "O9bMyxSBZReK"
      },
      "execution_count": 21,
      "outputs": []
    },
    {
      "cell_type": "code",
      "source": [
        "produk_kedua"
      ],
      "metadata": {
        "colab": {
          "base_uri": "https://localhost:8080/"
        },
        "id": "37W0YQ0yZkTJ",
        "outputId": "f18abdbc-e783-4a95-b15d-f1deb3a67c0e"
      },
      "execution_count": 22,
      "outputs": [
        {
          "output_type": "execute_result",
          "data": {
            "text/plain": [
              "{'nama': 'Smartphone', 'jumlah_terjual': 200}"
            ]
          },
          "metadata": {},
          "execution_count": 22
        }
      ]
    },
    {
      "cell_type": "code",
      "source": [
        "#2. produk terjual di urutan ketiga hingga ke lima\n",
        "case_2=produk_jan[4:6]\n",
        "print(\"produk ketiga dan kelima\",case_2)"
      ],
      "metadata": {
        "colab": {
          "base_uri": "https://localhost:8080/"
        },
        "id": "kOfROCViZ1X9",
        "outputId": "4fc2497f-f7a6-49e8-8206-9848ed6a14cb"
      },
      "execution_count": 24,
      "outputs": [
        {
          "output_type": "stream",
          "name": "stdout",
          "text": [
            "produk ketiga dan kelima [{'nama': 'Kamera', 'jumlah_terjual': 90}, {'nama': 'Headphone', 'jumlah_terjual': 220}]\n"
          ]
        }
      ]
    },
    {
      "cell_type": "code",
      "source": [
        "#3. produk yang penjualannya terbanyak\n",
        "produk_terbanyak = sorted(produk_jan,key=lambda x:x[\"jumlah_terjual\"],reverse=True)[0]\n",
        "print(\"produk terbanyak:\",produk_terbanyak)\n",
        "\n",
        "#note jika ingin mengurutkan ke terkecil bisa menggunakan sorted tanpa menggunakan reverse ya..."
      ],
      "metadata": {
        "colab": {
          "base_uri": "https://localhost:8080/"
        },
        "id": "jd6yYJoraVME",
        "outputId": "abad6902-0c59-495a-bfa8-ffa2f200af70"
      },
      "execution_count": 25,
      "outputs": [
        {
          "output_type": "stream",
          "name": "stdout",
          "text": [
            "produk terbanyak: {'nama': 'Headphone', 'jumlah_terjual': 220}\n"
          ]
        }
      ]
    },
    {
      "cell_type": "code",
      "source": [
        "#4. urutkan penjualan terbanyak kedua sampai keempat dan urutkan berdasarkan jumlah terjual\n",
        "case_4 = sorted(produk_jan,key=lambda x:x[\"jumlah_terjual\"],reverse=True)"
      ],
      "metadata": {
        "id": "EW_9zi55bIvY"
      },
      "execution_count": 29,
      "outputs": []
    },
    {
      "cell_type": "code",
      "source": [
        "produk_terbanyak=case_4[1:4]\n",
        "print(\"penjualan terbanyak kedua sampai keempat\",produk_terbanyak)"
      ],
      "metadata": {
        "colab": {
          "base_uri": "https://localhost:8080/"
        },
        "id": "rJpFzYOoeX-X",
        "outputId": "caac33a3-509f-4672-87b3-0e36ea45625d"
      },
      "execution_count": 30,
      "outputs": [
        {
          "output_type": "stream",
          "name": "stdout",
          "text": [
            "penjualan terbanyak kedua sampai keempat [{'nama': 'Smartphone', 'jumlah_terjual': 200}, {'nama': 'Smartwatch', 'jumlah_terjual': 180}, {'nama': 'Laptop', 'jumlah_terjual': 150}]\n"
          ]
        }
      ]
    },
    {
      "cell_type": "markdown",
      "source": [
        "### Soal 2\n",
        "\n",
        "Anda bekerja sebagai seorang data analyst di rumah sakit besar. Anda diberikan data pasien dalam bentuk list of dictionaries, di mana setiap dictionary menyimpan informasi tentang pasien seperti nama, usia, riwayat kesehatan, dan hasil tes mingguan. Tugas Anda adalah melakukan beberapa operasi indexing dan slicing untuk menjawab pertanyaan-pertanyaan berikut:\n",
        "\n",
        "1. ambil data hasil tes minggu ketiga untuk semua pasien\n",
        "2. ambil data pasien dengan hasil tes minggu pertama tertinggi\n",
        "3. ambil nama pasien dengan hasil tes mingguan stabil (rentang hasil tes mingguan <=5)\n",
        "4. buat list baru yang berisi pasien dengan usia lebih dari 50 tahun dan hasil tes minggu terakhir dibawah 150.\n"
      ],
      "metadata": {
        "id": "Ia_9E7byeoOp"
      }
    },
    {
      "cell_type": "code",
      "source": [
        "data_pasien = [\n",
        "    {\"nama\": \"John Doe\", \"usia\": 30, \"riwayat_kesehatan\": [\"Diabetes\"], \"hasil_tes\": [110, 115, 120, 130, 125, 118, 116]},\n",
        "    {\"nama\": \"Jane Smith\", \"usia\": 45, \"riwayat_kesehatan\": [\"Hipertensi\"], \"hasil_tes\": [135, 140, 138, 142, 139, 137, 136]},\n",
        "    {\"nama\": \"Alice Johnson\", \"usia\": 50, \"riwayat_kesehatan\": [\"Kolesterol Tinggi\"], \"hasil_tes\": [190, 185, 188, 187, 186, 184, 182]},\n",
        "    {\"nama\": \"Bob Brown\", \"usia\": 60, \"riwayat_kesehatan\": [\"Diabetes\", \"Hipertensi\"], \"hasil_tes\": [145, 148, 147, 150, 149, 151, 148]}\n",
        "]"
      ],
      "metadata": {
        "id": "wv81-h3GgjEF"
      },
      "execution_count": 31,
      "outputs": []
    },
    {
      "cell_type": "code",
      "source": [
        "#1. hasil tes minggu ketiga semua pasien\n",
        "minggu_ketiga = [pasien[\"hasil_tes\"][2] for pasien in data_pasien]\n",
        "print(\"hasil tes minggu ketigas pasien\",minggu_ketiga)"
      ],
      "metadata": {
        "colab": {
          "base_uri": "https://localhost:8080/"
        },
        "id": "983HV7vhgqG0",
        "outputId": "db541cb6-e24b-4e95-cc69-0ef11e8b8abf"
      },
      "execution_count": 33,
      "outputs": [
        {
          "output_type": "stream",
          "name": "stdout",
          "text": [
            "hasil tes minggu ketigas pasien [120, 138, 188, 147]\n"
          ]
        }
      ]
    },
    {
      "cell_type": "code",
      "source": [
        "#2. data pasien dengan hasil tes minggu pertama tertinggi\n",
        "pasien_tes_tertinggi = max(data_pasien, key=lambda pasien:pasien[\"hasil_tes\"][0])\n",
        "print(\"hasil tes pasien tertinggi minggu pertama\",pasien_tes_tertinggi)"
      ],
      "metadata": {
        "colab": {
          "base_uri": "https://localhost:8080/"
        },
        "id": "XUIJpoAIhME7",
        "outputId": "159ef566-06f6-4048-e0c4-247806ba33f9"
      },
      "execution_count": 35,
      "outputs": [
        {
          "output_type": "stream",
          "name": "stdout",
          "text": [
            "hasil tes pasien tertinggi minggu pertama {'nama': 'Alice Johnson', 'usia': 50, 'riwayat_kesehatan': ['Kolesterol Tinggi'], 'hasil_tes': [190, 185, 188, 187, 186, 184, 182]}\n"
          ]
        }
      ]
    },
    {
      "cell_type": "code",
      "source": [
        "#3. nama pasien dengan hasil tes mingguan stabil (rentang hasil tes mingguan <=5)\n",
        "pasien_stabil = [pasien[\"nama\"] for pasien in data_pasien if max(pasien[\"hasil_tes\"])- min(pasien[\"hasil_tes\"])<=5]\n",
        "print(\"pasien stabil:\",pasien_stabil)\n",
        "\n",
        "#kenapa hasilnya kosong? karena tidak ada pasien dengan rentan hasil kurang dari 5"
      ],
      "metadata": {
        "colab": {
          "base_uri": "https://localhost:8080/"
        },
        "id": "ziPf8EdjhuMD",
        "outputId": "97c1da74-be14-4dc1-9a71-c3dd9cbbaed0"
      },
      "execution_count": 49,
      "outputs": [
        {
          "output_type": "stream",
          "name": "stdout",
          "text": [
            "pasien stabil: []\n"
          ]
        }
      ]
    },
    {
      "cell_type": "code",
      "source": [
        "pasien_stabil = [pasien[\"nama\"] for pasien in data_pasien if max(pasien[\"hasil_tes\"])- min(pasien[\"hasil_tes\"])<=7]\n",
        "print(\"pasien stabil:\",pasien_stabil)"
      ],
      "metadata": {
        "colab": {
          "base_uri": "https://localhost:8080/"
        },
        "id": "9y7V_W0CkzFO",
        "outputId": "b0336b32-044a-4699-a76a-5d611f72eb24"
      },
      "execution_count": 51,
      "outputs": [
        {
          "output_type": "stream",
          "name": "stdout",
          "text": [
            "pasien stabil: ['Jane Smith', 'Bob Brown']\n"
          ]
        }
      ]
    },
    {
      "cell_type": "code",
      "source": [
        "#4. list baru yang berisi pasien dengan usia lebih dari 50 tahun dan hasil tes minggu terakhir dibawah 150.\n",
        "data_pasien_baru = [pasien for pasien in data_pasien if pasien[\"usia\"]>50 and pasien[\"hasil_tes\"][-1]<150]\n",
        "print(\"data pasien berumur lebih dari 50 tahun dengan hasil tes minggu terakhir kurang dari 150\",data_pasien_baru)"
      ],
      "metadata": {
        "colab": {
          "base_uri": "https://localhost:8080/"
        },
        "id": "OC92uYcUlCKt",
        "outputId": "85dc90fc-fb4e-4f17-822f-9513b81a1b0d"
      },
      "execution_count": 53,
      "outputs": [
        {
          "output_type": "stream",
          "name": "stdout",
          "text": [
            "data pasien berumur lebih dari 50 tahun dengan hasil tes minggu terakhir kurang dari 150 [{'nama': 'Bob Brown', 'usia': 60, 'riwayat_kesehatan': ['Diabetes', 'Hipertensi'], 'hasil_tes': [145, 148, 147, 150, 149, 151, 148]}]\n"
          ]
        }
      ]
    },
    {
      "cell_type": "code",
      "source": [],
      "metadata": {
        "id": "nIKP-XzBmWOe"
      },
      "execution_count": null,
      "outputs": []
    },
    {
      "cell_type": "code",
      "source": [],
      "metadata": {
        "id": "bug9b65vmNvR"
      },
      "execution_count": null,
      "outputs": []
    },
    {
      "cell_type": "code",
      "source": [],
      "metadata": {
        "id": "S-I775oOk9l4"
      },
      "execution_count": null,
      "outputs": []
    },
    {
      "cell_type": "code",
      "source": [],
      "metadata": {
        "id": "z3qqEg1pkVz8"
      },
      "execution_count": null,
      "outputs": []
    },
    {
      "cell_type": "code",
      "source": [],
      "metadata": {
        "id": "frcypjs9kPIa"
      },
      "execution_count": null,
      "outputs": []
    },
    {
      "cell_type": "code",
      "source": [
        "pasien_stabil = [pasien[\"nama\"] for pasien in data_pasien if max(pasien[\"hasil_tes\"]) - min(pasien[\"hasil_tes\"])<=5]\n",
        "print(\"Nama pasien dengan hasil tes mingguan stabil:\", pasien_stabil)\n",
        "# Output: Nama pasien dengan hasil tes mingguan stabil: ['Jane Smith']\n"
      ],
      "metadata": {
        "colab": {
          "base_uri": "https://localhost:8080/"
        },
        "id": "SI92jfxXjSMr",
        "outputId": "1bf82b47-dbb9-486e-bbdf-2fc4447815f5"
      },
      "execution_count": 46,
      "outputs": [
        {
          "output_type": "stream",
          "name": "stdout",
          "text": [
            "Nama pasien dengan hasil tes mingguan stabil: []\n"
          ]
        }
      ]
    },
    {
      "cell_type": "code",
      "source": [],
      "metadata": {
        "id": "H9sk2RjqkCx0"
      },
      "execution_count": null,
      "outputs": []
    },
    {
      "cell_type": "code",
      "source": [],
      "metadata": {
        "id": "aQBZvRpdj6gT"
      },
      "execution_count": null,
      "outputs": []
    },
    {
      "cell_type": "code",
      "source": [],
      "metadata": {
        "id": "t5d8MMJHj4CN"
      },
      "execution_count": null,
      "outputs": []
    },
    {
      "cell_type": "code",
      "source": [],
      "metadata": {
        "id": "2Kio9TKdj2sc"
      },
      "execution_count": null,
      "outputs": []
    },
    {
      "cell_type": "code",
      "source": [],
      "metadata": {
        "id": "Ds-gch7Ujy3e"
      },
      "execution_count": null,
      "outputs": []
    },
    {
      "cell_type": "code",
      "source": [],
      "metadata": {
        "id": "Xv4jQJ2jji2b"
      },
      "execution_count": null,
      "outputs": []
    },
    {
      "cell_type": "code",
      "source": [],
      "metadata": {
        "id": "2Rk34lInivtp"
      },
      "execution_count": null,
      "outputs": []
    },
    {
      "cell_type": "code",
      "source": [],
      "metadata": {
        "id": "_2J8CF3Dijbe"
      },
      "execution_count": null,
      "outputs": []
    },
    {
      "cell_type": "code",
      "source": [],
      "metadata": {
        "id": "Xl2-KD0JiV2O"
      },
      "execution_count": null,
      "outputs": []
    },
    {
      "cell_type": "code",
      "source": [],
      "metadata": {
        "id": "D17FNCCbiN08"
      },
      "execution_count": null,
      "outputs": []
    },
    {
      "cell_type": "code",
      "source": [],
      "metadata": {
        "id": "fKq9yx7ZhqT5"
      },
      "execution_count": null,
      "outputs": []
    },
    {
      "cell_type": "code",
      "source": [],
      "metadata": {
        "id": "W3UIPgaxhHOS"
      },
      "execution_count": null,
      "outputs": []
    }
  ]
}